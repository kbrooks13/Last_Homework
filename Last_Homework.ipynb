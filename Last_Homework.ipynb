{
 "cells": [
  {
   "cell_type": "code",
   "execution_count": null,
   "metadata": {},
   "outputs": [],
   "source": [
    "from os import listdir\n",
    "listdir()\n",
    "import os\n",
    "os.listdir()"
   ]
  },
  {
   "cell_type": "code",
   "execution_count": 40,
   "metadata": {},
   "outputs": [],
   "source": [
    "f = open('desktop/nd2.fasta.txt', 'r')"
   ]
  },
  {
   "cell_type": "code",
   "execution_count": 41,
   "metadata": {},
   "outputs": [],
   "source": [
    "nd2 = f.readlines()"
   ]
  },
  {
   "cell_type": "code",
   "execution_count": null,
   "metadata": {},
   "outputs": [],
   "source": [
    "print (nd2[0:6])"
   ]
  },
  {
   "cell_type": "code",
   "execution_count": 43,
   "metadata": {},
   "outputs": [
    {
     "data": {
      "text/plain": [
       "380"
      ]
     },
     "execution_count": 43,
     "metadata": {},
     "output_type": "execute_result"
    }
   ],
   "source": [
    "len(nd2)"
   ]
  },
  {
   "cell_type": "code",
   "execution_count": null,
   "metadata": {},
   "outputs": [],
   "source": [
    "for line_num, line in enumerate(nd2[0:5]):\n",
    "    print(line)"
   ]
  },
  {
   "cell_type": "code",
   "execution_count": null,
   "metadata": {},
   "outputs": [],
   "source": [
    "for line_num, line in enumerate(nd2[0:6]):\n",
    "    if line_num%3 ==1:\n",
    "        print(line)"
   ]
  },
  {
   "cell_type": "markdown",
   "metadata": {},
   "source": [
    "This shows that every 3 lines is a new string"
   ]
  },
  {
   "cell_type": "code",
   "execution_count": null,
   "metadata": {},
   "outputs": [],
   "source": [
    "print(nd2[1])\n",
    "print(nd2[4])\n",
    "print(nd2[7])"
   ]
  },
  {
   "cell_type": "code",
   "execution_count": 47,
   "metadata": {},
   "outputs": [
    {
     "name": "stdout",
     "output_type": "stream",
     "text": [
      ">Selasphorus_flammula\n",
      "\n"
     ]
    }
   ],
   "source": [
    "print(nd2[36])"
   ]
  },
  {
   "cell_type": "markdown",
   "metadata": {},
   "source": [
    "Any line that is not an increment of 3 is not a DNA sequence (ex: a space)"
   ]
  },
  {
   "cell_type": "code",
   "execution_count": null,
   "metadata": {},
   "outputs": [],
   "source": [
    "for line_num,line in enumerate(nd2[1]):  \n",
    "    if line_num%3 ==1:\n",
    "        for base in line:\n",
    "            print(base)"
   ]
  },
  {
   "cell_type": "markdown",
   "metadata": {},
   "source": [
    "Gets all possible kmers (k) of any size and how many times they appear in a specific line (l), a line that is not a DNA sequence will result in 'error'"
   ]
  },
  {
   "cell_type": "code",
   "execution_count": 51,
   "metadata": {},
   "outputs": [
    {
     "name": "stdout",
     "output_type": "stream",
     "text": [
      "{'TT': 55, 'TA': 91, 'AT': 84, 'AA': 121, 'TG': 25, 'GA': 27, 'AC': 104, 'CC': 106, 'CT': 108, 'GC': 42, 'CA': 114, 'TC': 88, 'AG': 44, 'GG': 14, 'CG': 12, 'GT': 11}\n"
     ]
    }
   ],
   "source": [
    "k = 2\n",
    "#first string\n",
    "l=10\n",
    "counter = {}\n",
    "for line_num,line in enumerate(nd2):\n",
    "    line = line.rstrip()\n",
    "    if l%3!= 1: \n",
    "        print ('error')\n",
    "        break\n",
    "    if line_num==l:\n",
    "        for i,base in enumerate(line[:-k+1]):\n",
    "            kmer = line[i:i+k]\n",
    "            if kmer in counter:\n",
    "                counter[kmer] += 1\n",
    "            else:\n",
    "                counter[kmer] = 1\n",
    "print(counter)"
   ]
  },
  {
   "cell_type": "code",
   "execution_count": 52,
   "metadata": {},
   "outputs": [
    {
     "name": "stdout",
     "output_type": "stream",
     "text": [
      "['desktop/nd2.fasta.txt']\n"
     ]
    }
   ],
   "source": [
    "import glob\n",
    "filelist = glob.glob('desktop/*.txt')\n",
    "print(filelist)"
   ]
  },
  {
   "cell_type": "markdown",
   "metadata": {},
   "source": [
    "Allows for possible kmers to be counted in a specific line for any size k and how many kmers there actually are"
   ]
  },
  {
   "cell_type": "code",
   "execution_count": 54,
   "metadata": {},
   "outputs": [
    {
     "name": "stdout",
     "output_type": "stream",
     "text": [
      "Number of kmers:  16\n",
      "Number of possible kmers:  16\n"
     ]
    }
   ],
   "source": [
    "l=1 # l= 1+=3\n",
    "def count_kmers(k,nd2,counter = {}):\n",
    "    for line_num,line in enumerate(nd2): \n",
    "            line = line.rstrip()\n",
    "            if l%3!= 1: \n",
    "                print ('error')\n",
    "                break\n",
    "            if line_num==l:\n",
    "                for i,base in enumerate(line[:-k+1]):\n",
    "                    kmer = line[i:i+k]\n",
    "                    if kmer in counter:\n",
    "                        counter[kmer] += 1\n",
    "                    else:\n",
    "                        counter[kmer] = 1\n",
    "    return(counter)\n",
    "\n",
    "\n",
    "counter={}\n",
    "k=2\n",
    "for filename in glob.glob('desktop/*.txt'):\n",
    "    f = open(filename, 'r')\n",
    "    nd2 = f.readlines()\n",
    "    counter = count_kmers(k, nd2, counter)\n",
    "#print(counter)\n",
    "if len(counter)==0:\n",
    "    print('Number of kmers: 4')\n",
    "else:\n",
    "    print('Number of kmers: ', len(counter))\n",
    "print('Number of possible kmers: ',4**k)"
   ]
  },
  {
   "cell_type": "code",
   "execution_count": 55,
   "metadata": {},
   "outputs": [],
   "source": [
    "import pandas "
   ]
  },
  {
   "cell_type": "code",
   "execution_count": 56,
   "metadata": {},
   "outputs": [
    {
     "name": "stdout",
     "output_type": "stream",
     "text": [
      "        AA   AC  AG  AT   CA   CC  CG   CT  GA  GC  GG  GT  TA  TC  TG  TT\n",
      "kmers  114  108  37  72  112  131  15  112  25  43  20  10  81  88  26  52\n"
     ]
    }
   ],
   "source": [
    "counter_df = pandas.DataFrame(counter, index = ['kmers'])\n",
    "print(counter_df)"
   ]
  },
  {
   "cell_type": "code",
   "execution_count": 57,
   "metadata": {},
   "outputs": [],
   "source": [
    "import matplotlib.pyplot as plt\n",
    "%matplotlib inline"
   ]
  },
  {
   "cell_type": "code",
   "execution_count": 58,
   "metadata": {},
   "outputs": [
    {
     "data": {
      "image/png": "[encoded data removed]",
      "text/plain": [
       "<matplotlib.figure.Figure at 0x1a0bc1acf8>"
      ]
     },
     "metadata": {},
     "output_type": "display_data"
    }
   ],
   "source": [
    "import seaborn as sns\n",
    "sns.barplot(data = counter_df, color = 'b');\n",
    "plt.xticks(rotation=90);\n",
    "plt.savefig('kmer_freq.png')"
   ]
  },
  {
   "cell_type": "markdown",
   "metadata": {},
   "source": [
    "Shows the ratio of kmers of any size for a specific line"
   ]
  },
  {
   "cell_type": "code",
   "execution_count": 59,
   "metadata": {},
   "outputs": [
    {
     "name": "stdout",
     "output_type": "stream",
     "text": [
      "0 : 1\n",
      "1 : 4\n",
      "2 : 17\n",
      "3 : 65\n",
      "4 : 203\n",
      "5 : 467\n",
      "6 : 769\n",
      "7 : 953\n"
     ]
    }
   ],
   "source": [
    "l:12\n",
    "for k in range(8):\n",
    "    counter = {}\n",
    "    for line_num,line in enumerate(nd2): \n",
    "                line = line.rstrip()\n",
    "                if l%3!= 1: \n",
    "                    print ('error')\n",
    "                    break\n",
    "                if line_num==l:\n",
    "                    for i,base in enumerate(line):\n",
    "                        kmer = line[i:i+k]\n",
    "                        if kmer in counter:\n",
    "                            counter[kmer] += 1\n",
    "                        else:\n",
    "                            counter[kmer] = 1\n",
    "    print(k , ':' , len(counter))"
   ]
  },
  {
   "cell_type": "markdown",
   "metadata": {},
   "source": [
    "A code that is created should be able to be tested and then applied to other files. I was unable to do this but I would have used Sublime to write out the code and test it with a decimal, negative number, and large/small number."
   ]
  },
  {
   "cell_type": "code",
   "execution_count": null,
   "metadata": {},
   "outputs": [],
   "source": []
  }
 ],
 "metadata": {
  "kernelspec": {
   "display_name": "Python 3",
   "language": "python",
   "name": "python3"
  },
  "language_info": {
   "codemirror_mode": {
    "name": "ipython",
    "version": 3
   },
   "file_extension": ".py",
   "mimetype": "text/x-python",
   "name": "python",
   "nbconvert_exporter": "python",
   "pygments_lexer": "ipython3",
   "version": "3.6.3"
  }
 },
 "nbformat": 4,
 "nbformat_minor": 2
}
